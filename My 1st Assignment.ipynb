{
 "cells": [
  {
   "cell_type": "code",
   "execution_count": 1,
   "metadata": {},
   "outputs": [
    {
     "name": "stdout",
     "output_type": "stream",
     "text": [
      "Hellow 'Ali Raza'\n",
      "Your application is accepted for Artificial Intelligence in University_Name\n"
     ]
    }
   ],
   "source": [
    "name = \"'Ali Raza'\"\n",
    "age=25\n",
    "your_class = \"Artificial Intelligence\"\n",
    "university = \"University_Name\"\n",
    "\n",
    "print(\"Hellow \"+name)\n",
    "print(\"Your application is accepted for \"+ your_class + \" in \" + university)"
   ]
  },
  {
   "cell_type": "code",
   "execution_count": null,
   "metadata": {},
   "outputs": [],
   "source": []
  }
 ],
 "metadata": {
  "kernelspec": {
   "display_name": "Python 3",
   "language": "python",
   "name": "python3"
  },
  "language_info": {
   "codemirror_mode": {
    "name": "ipython",
    "version": 3
   },
   "file_extension": ".py",
   "mimetype": "text/x-python",
   "name": "python",
   "nbconvert_exporter": "python",
   "pygments_lexer": "ipython3",
   "version": "3.7.4"
  }
 },
 "nbformat": 4,
 "nbformat_minor": 2
}
